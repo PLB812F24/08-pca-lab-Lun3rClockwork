{
 "cells": [
  {
   "cell_type": "markdown",
   "id": "8a0fe410-6fe1-4817-98ce-5c9a41c111c8",
   "metadata": {},
   "source": [
    "# PCA Lab\n",
    "\n",
    "In this lab we will be practicing using PCA to analyze a genomic dataset\n",
    "\n",
    "\n",
    "## The data\n",
    "\n",
    "*Arabidopsis thaliana*. This data was downloaded from [The 1001 Genomes Project](https://1001genomes.org/data/GMI-MPI/releases/v3.1) and the file is called `1001genomes_snp-short-indel_only_ACGTN.vcf.gz` and is in the '/mnt/research/PLB812_FS24_S001/12_PCA' folder."
   ]
  },
  {
   "cell_type": "code",
   "execution_count": null,
   "id": "a3aa6817-c59d-4cf1-9c8b-9b73a4e9ab46",
   "metadata": {},
   "outputs": [],
   "source": []
  },
  {
   "cell_type": "code",
   "execution_count": null,
   "id": "280f1278-6eba-45de-a59d-a02cabe67a40",
   "metadata": {},
   "outputs": [],
   "source": []
  },
  {
   "cell_type": "markdown",
   "id": "aca43862-6365-4b5f-b1b9-907b1145f0fe",
   "metadata": {},
   "source": [
    "## Running PCA \n",
    "\n",
    "We will be using the software Plink to run PCA. Our first step will be loading the Plink module on the hpcc.\n",
    "\n",
    "`$module purge` <br>\n",
    "`$module load PLINK/2.00a3.7-gfbf-2023a`\n",
    "\n",
    "Next, if your data is in a vcf file, you need to convert it to a plink format.  We will also want to filter these files to give us SNPs that are not in linkage disequilibrium with each other, and to remove rare sites or sites with a lot of missing data. You can look up each of the options in the following command to see how they work.\n",
    "\n",
    "`$plink2 -bfile [file-prefix] --indep-pairwise 100 20 0.2 --geno 0.05 --max-alleles 2 --maf 0.05 --allow-extra-chr --make-bed --out [file-prefix]_filtered`\n",
    "\n",
    "If you were to do this another time and your data wass already in a plink format (file names end with **.bed** and **.bim** and **.fam** and have the same file prefix), you could run the following command:\n",
    "\n",
    "`$plink2 -bfile [file-prefix] --indep-pairwise 100 20 0.2 --geno 0.05 --max-alleles 2 --maf 0.05 --allow-extra-chr --make-bed --out [file-prefix].filtered`\n",
    "\n",
    "Once you have filtered your plink files of SNPs, it is time to run the PCA analysis!\n",
    "\n",
    "`$plink2 -bfile [file-prefix] --extract [file-prefix].filtered.in --pca --allow-extra-chr --out [file-prefix]-pca`\n",
    "\n",
    "Note the `--extract` flag here directs you towards a list of sites that was generated in the previous filtered set. If you were to skip this, plink would try to run the PCA on all the sites, not just the sites that passed the filters. \n",
    "\n",
    "You can use **less** to look at the output files from this step, which will be `[file-prefix]-pca.eigenvec` and `[file-prefix]-pca.eigenval`."
   ]
  },
  {
   "cell_type": "markdown",
   "id": "93bf0244-c58d-4acb-8103-0e4ac131ea4f",
   "metadata": {},
   "source": [
    "## Subsampling SNPs\n",
    "\n",
    "We talked in class about how the number of SNPs is important for making a PCA. In the lab we'll investigate this using the *A. thaliana* data.\n",
    "\n",
    "We can efficiently subsample a smaller dataset by sampling from the [file-prefix].filtered.in site, and then only using these sites when we run the PCA. To subsample 100 sites, use the following bash command:\n",
    "\n",
    "`shuf [file-prefix].filtered.in | head -n 100 > [file-prefix].100.in`\n",
    "\n",
    "Take a second to look at this command and think about what the different parts of it do (or ask a neighbor or Emily!).\n",
    "\n",
    "Modify the command to take subsamples of 100, 1000, and 10,000 sites.\n",
    "\n",
    "You can count the number of lines in your `[file-prefix].x.in` files using `wc -l [file]`. Use this to check that your subsampling worked correctly. Then, rerun your PCA on these subsamples."
   ]
  },
  {
   "cell_type": "code",
   "execution_count": null,
   "id": "62fe480e-1fc2-4cb8-8984-9925cc1c322e",
   "metadata": {},
   "outputs": [],
   "source": [
    "rosseli5@dev-amd20:~/08_PCA$ cd /mnt/research/PLB812_FS24_S001/12_PCA\n",
    "rosseli5@dev-amd20:/mnt/research/PLB812_FS24_S001/12_PCA$ ls\n",
    "1001genomes_snp-short-indel_only_ACGTN.vcf.gz  arabidopsis.bim\n",
    "accessions.csv                                 arabidopsis.fam\n",
    "arabidopsis.bed                                pca-plots.Rmd\n",
    "#moving back home\n",
    "rosseli5@dev-amd20:/mnt/research/PLB812_FS24_S001/12_PCA$ cd /mnt/home/rosse\n",
    "li5/08_PCA\n",
    "#converting our vcf file into plink's\n",
    "#this takes a while, Emily says we can skip ahead to the next step but we're just going to chill because I have a fear of breaking terminal by overloading it with stuff\n",
    "#if I have to finish this on Friday, that's fine\n",
    "rosseli5@dev-amd20:~/08_PCA$plink2 -vcf /mnt/research/PLB812_FS24_S001/12_PCA/1001genomes_snp-short-indel_only_ACGTN.vcf.gz --indep-pairwise 100 20 0.2 --geno 0.05 --max-alleles 2 --maf 0.05 --allow-extra-chr --make-bed --out /mnt/home/rosseli5/08_PCA/1001genomes_snp-short-indel_only_ACGTN_filtered\n",
    "#checking to make sure files exist\n",
    "rosseli5@dev-amd20:~/08_PCA$ ls\n",
    "#yay, we have a bed, a bim, a fam, and a log\n",
    "#success\n",
    "#JK LOL NOT SUCCESS\n",
    "#We were also supposed to get a file ending in .in, this is an error with Emily's code\n",
    "#We're saying f-it, and using the files that she preparepared.\n",
    "rosseli5@dev-amd20:~/08_PCA$ cd /mnt/research/PLB812_FS24_S001/12_PCA\n",
    "#Emily's files are called arabidopsis\n",
    "rosseli5@dev-amd20:~/08_PCA$ plink2 -bfile /mnt/research/PLB812_FS24_S001/12_PCA/arabidopsis --extract /mnt/research/PLB812_FS24_S001/12_PCA/arabidopsis.prune.in --pca --allow-extra-chr --out /mnt/home/rosseli5/08_PCA/arabidopsis-pca\n",
    "#ran into an error code\n",
    "#libgomp: Thread creation failed: Resource temporarily unavailable\n",
    "#moving nodes\n",
    "rosseli5@dev-amd20:~/08_PCA$ ssh dev-intel18\n",
    "rosseli5@dev-intel18:~$ cd /mnt/home/rosseli5/08_PCA\n",
    "#had to reload plink\n",
    "rosseli5@dev-intel18:~/08_PCA$ module load PLINK/2.00a3.7-gfbf-2023a\n",
    "#this will take a while to run\n",
    "rosseli5@dev-intel18:~/08_PCA$ plink2 -bfile /mnt/research/PLB812_FS24_S001/\n",
    "12_PCA/arabidopsis --extract /mnt/research/PLB812_FS24_S001/12_PCA/arabidops\n",
    "is.prune.in --pca --allow-extra-chr --out /mnt/home/rosseli5/08_PCA/arabidop\n",
    "sis-pca\n",
    "#subsetting\n",
    "rosseli5@dev-intel18:~/08_PCA$ shuf /mnt/research/PLB812_FS24_S001/12_PCA/arabidopsis.prune.in | head -n 100 > /mnt/home/rosseli5/08_PCA/arabidopsis.100.in\n",
    "rosseli5@dev-intel18:~/08_PCA$ shuf /mnt/research/PLB812_FS24_S001/12_PCA/arabidopsis.prune.in | head -n 1000 > /mnt/home/rosseli5/08_PCA/arabidopsis.1000.in\n",
    "rosseli5@dev-intel18:~/08_PCA$ shuf /mnt/research/PLB812_FS24_S001/12_PCA/arabidopsis.prune.in | head -n 10000 > /mnt/home/rosseli5/08_PCA/arabidopsis.10000.in\n",
    "#Rerun the data through the filtered.in files\n",
    "rosseli5@dev-amd20:~/08_PCA$ plink2 -bfile /mnt/research/PLB812_FS24_S001/12_PCA/arabidopsis --extract /m\n",
    "nt/home/rosseli5/08_PCA/arabidopsis.100.in --pca --allow-extra-chr --out /mnt/home/rosseli5/08_PCA/arabid\n",
    "opsis100-pca\n",
    "rosseli5@dev-amd20:~/08_PCA$ plink2 -bfile /mnt/research/PLB812_FS24_S001/12_PCA/arabidopsis --extract /mnt/ho\n",
    "me/rosseli5/08_PCA/arabidopsis.1000.in --pca --allow-extra-chr --out /mnt/home/rosseli5/08_PCA/arabidopsi\n",
    "s1000-pca\n",
    "rosseli5@dev-intel18:~$ plink2 -bfile /mnt/research/PLB812_FS24_S001/12_PCA/arabidopsis --extract /mnt/ho\n",
    "me/rosseli5/08_PCA/arabidopsis.10000.in --pca --allow-extra-chr --out /mnt/home/rosseli5/08_PCA/arabidops\n",
    "is10000-pca\n",
    "#Check if subsampleing worked\n",
    "rosseli5@dev-intel18:~/08_PCA$ wc -l arabidopsis.100.in\n",
    "#getting the answer for homework question 2\n",
    "rosseli5@dev-intel18:~/08_PCA$ wc -l /mnt/research/PLB812_FS24_S001/12_PCA/arabidopsis.prune.in"
   ]
  },
  {
   "cell_type": "markdown",
   "id": "53222356-10cb-4e40-ba91-16c644696bc5",
   "metadata": {},
   "source": [
    "## Making plots"
   ]
  },
  {
   "cell_type": "markdown",
   "id": "307bf28f-b0eb-4835-8412-64fb8c5ccdcf",
   "metadata": {},
   "source": [
    "You will need some extra information about the genotypes in your PCA.\n",
    "\n",
    "This file is called `accessions.csv`.\n",
    "\n",
    "There is a file called 'pca-plots.Rmd' in the class folder ('/mnt/research/PLB812_FS24_S001/12_PCA') that has code for making PCA plots. Please open it up in Rstudio, edit the paths for your own data, and make PCA plots for all the SNPs and then for PCAs made from each subset.\n",
    "\n",
    "When you're done, put the PCA plots in this notebook."
   ]
  },
  {
   "cell_type": "code",
   "execution_count": null,
   "id": "b45a5c47-f586-4282-a088-9357ca6cfef1",
   "metadata": {},
   "outputs": [],
   "source": []
  },
  {
   "cell_type": "markdown",
   "id": "9901a470-1bee-4efc-b4e9-27cf271821ad",
   "metadata": {},
   "source": [
    "## Questions\n",
    "\n",
    "1. Based on the plot you've made, what are the major axes of variation in your diversity dataset? How do you know this?\n",
    "\n",
    "The most diversity from the sampled plants is coming from Germany and Asia. In the PC1 vs PC2 PCA plot, Germany is not grouping, and while some plants sampled from this region are clustering with the rest of Europe, a large portion of the sampled plants show large variation when compared to other German plants and when compared to other regions. Additionally, while plants sampled from Asia are clustering together, they are distinct from all other regions.\n",
    "   \n",
    "2. How many sites were in the dataset of all SNPs that you used to calculate the PCA without subsampling? How did you find this out?\n",
    "\n",
    "Using the code wc -l /mnt/research/PLB812_FS24_S001/12_PCA/arabidopsis.prune.in, I found that 41060 SNPs were in the unfiltered data set\n",
    "\n",
    "3. How did changing the number of SNPs affect the PCA plots you made? How many SNPs would you recommend that another researcher use for Arabidopsis PCA?\n",
    "\n",
    "The clustering of regions became increasingly clear with the addition of SNPs; for example, 100 was less clear than 10000. I recommend that a researcher use either the 10000 SNPs or the unfiltered set. While the PCA plots look very similar for the unfiltered vs the 10000 SNP set, using the unfiltered set allows you to skip a programming step, but it does take a while to get the .eigenvec file. If you have the computational power and time, unfiltered, if not, 10000 is fine."
   ]
  },
  {
   "cell_type": "markdown",
   "id": "f0e82503-8a33-46fa-940d-1887761e73b7",
   "metadata": {},
   "source": [
    "## Other helpful stuff:\n",
    "\n",
    "[The Documentation for Plink2](https://www.cog-genomics.org/plink/2.0/)\n",
    "\n",
    "[A tutorial on PCA using Plink](https://www.zoology.ubc.ca/~schluter/R/Genomics.html#PCA_with_PLINK2)"
   ]
  }
 ],
 "metadata": {
  "kernelspec": {
   "display_name": "Python 3 (ipykernel)",
   "language": "python",
   "name": "python3"
  },
  "language_info": {
   "codemirror_mode": {
    "name": "ipython",
    "version": 3
   },
   "file_extension": ".py",
   "mimetype": "text/x-python",
   "name": "python",
   "nbconvert_exporter": "python",
   "pygments_lexer": "ipython3",
   "version": "3.11.3"
  }
 },
 "nbformat": 4,
 "nbformat_minor": 5
}
